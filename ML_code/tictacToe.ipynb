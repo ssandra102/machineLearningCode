{
  "nbformat": 4,
  "nbformat_minor": 0,
  "metadata": {
    "colab": {
      "provenance": []
    },
    "kernelspec": {
      "name": "python3",
      "display_name": "Python 3"
    },
    "language_info": {
      "name": "python"
    }
  },
  "cells": [
    {
      "cell_type": "code",
      "execution_count": null,
      "metadata": {
        "colab": {
          "base_uri": "https://localhost:8080/",
          "height": 467
        },
        "id": "g4ykoYXeql9A",
        "outputId": "adc07dc5-6ee2-42e3-e3c7-e5996f65adac"
      },
      "outputs": [
        {
          "output_type": "error",
          "ename": "TclError",
          "evalue": "ignored",
          "traceback": [
            "\u001b[0;31m---------------------------------------------------------------------------\u001b[0m",
            "\u001b[0;31mTclError\u001b[0m                                  Traceback (most recent call last)",
            "\u001b[0;32m<ipython-input-1-ed911e5149e1>\u001b[0m in \u001b[0;36m<module>\u001b[0;34m\u001b[0m\n\u001b[1;32m    107\u001b[0m     \u001b[0;31m# t.mainloop()\u001b[0m\u001b[0;34m\u001b[0m\u001b[0;34m\u001b[0m\u001b[0;34m\u001b[0m\u001b[0m\n\u001b[1;32m    108\u001b[0m \u001b[0;34m\u001b[0m\u001b[0m\n\u001b[0;32m--> 109\u001b[0;31m \u001b[0mTicTacToeGUI\u001b[0m\u001b[0;34m(\u001b[0m\u001b[0;34m)\u001b[0m\u001b[0;34m\u001b[0m\u001b[0;34m\u001b[0m\u001b[0m\n\u001b[0m",
            "\u001b[0;32m<ipython-input-1-ed911e5149e1>\u001b[0m in \u001b[0;36mTicTacToeGUI\u001b[0;34m()\u001b[0m\n\u001b[1;32m     70\u001b[0m \u001b[0;32mdef\u001b[0m \u001b[0mTicTacToeGUI\u001b[0m\u001b[0;34m(\u001b[0m\u001b[0;34m)\u001b[0m\u001b[0;34m:\u001b[0m\u001b[0;34m\u001b[0m\u001b[0;34m\u001b[0m\u001b[0m\n\u001b[1;32m     71\u001b[0m     \u001b[0;32mglobal\u001b[0m \u001b[0mt\u001b[0m\u001b[0;34m\u001b[0m\u001b[0;34m\u001b[0m\u001b[0m\n\u001b[0;32m---> 72\u001b[0;31m     \u001b[0mt\u001b[0m\u001b[0;34m=\u001b[0m\u001b[0mTk\u001b[0m\u001b[0;34m(\u001b[0m\u001b[0;34m)\u001b[0m\u001b[0;34m\u001b[0m\u001b[0;34m\u001b[0m\u001b[0m\n\u001b[0m\u001b[1;32m     73\u001b[0m     \u001b[0mt\u001b[0m\u001b[0;34m.\u001b[0m\u001b[0mtitle\u001b[0m\u001b[0;34m(\u001b[0m\u001b[0;34m\"TIC TAC TOE\"\u001b[0m\u001b[0;34m)\u001b[0m\u001b[0;34m\u001b[0m\u001b[0;34m\u001b[0m\u001b[0m\n\u001b[1;32m     74\u001b[0m     \u001b[0mt\u001b[0m\u001b[0;34m.\u001b[0m\u001b[0mconfigure\u001b[0m\u001b[0;34m(\u001b[0m\u001b[0mbg\u001b[0m\u001b[0;34m=\u001b[0m\u001b[0;34m\"white\"\u001b[0m\u001b[0;34m)\u001b[0m  \u001b[0;31m#Making the background of the window as white\u001b[0m\u001b[0;34m\u001b[0m\u001b[0;34m\u001b[0m\u001b[0m\n",
            "\u001b[0;32m/usr/lib/python3.8/tkinter/__init__.py\u001b[0m in \u001b[0;36m__init__\u001b[0;34m(self, screenName, baseName, className, useTk, sync, use)\u001b[0m\n\u001b[1;32m   2268\u001b[0m                 \u001b[0mbaseName\u001b[0m \u001b[0;34m=\u001b[0m \u001b[0mbaseName\u001b[0m \u001b[0;34m+\u001b[0m \u001b[0mext\u001b[0m\u001b[0;34m\u001b[0m\u001b[0;34m\u001b[0m\u001b[0m\n\u001b[1;32m   2269\u001b[0m         \u001b[0minteractive\u001b[0m \u001b[0;34m=\u001b[0m \u001b[0;36m0\u001b[0m\u001b[0;34m\u001b[0m\u001b[0;34m\u001b[0m\u001b[0m\n\u001b[0;32m-> 2270\u001b[0;31m         \u001b[0mself\u001b[0m\u001b[0;34m.\u001b[0m\u001b[0mtk\u001b[0m \u001b[0;34m=\u001b[0m \u001b[0m_tkinter\u001b[0m\u001b[0;34m.\u001b[0m\u001b[0mcreate\u001b[0m\u001b[0;34m(\u001b[0m\u001b[0mscreenName\u001b[0m\u001b[0;34m,\u001b[0m \u001b[0mbaseName\u001b[0m\u001b[0;34m,\u001b[0m \u001b[0mclassName\u001b[0m\u001b[0;34m,\u001b[0m \u001b[0minteractive\u001b[0m\u001b[0;34m,\u001b[0m \u001b[0mwantobjects\u001b[0m\u001b[0;34m,\u001b[0m \u001b[0museTk\u001b[0m\u001b[0;34m,\u001b[0m \u001b[0msync\u001b[0m\u001b[0;34m,\u001b[0m \u001b[0muse\u001b[0m\u001b[0;34m)\u001b[0m\u001b[0;34m\u001b[0m\u001b[0;34m\u001b[0m\u001b[0m\n\u001b[0m\u001b[1;32m   2271\u001b[0m         \u001b[0;32mif\u001b[0m \u001b[0museTk\u001b[0m\u001b[0;34m:\u001b[0m\u001b[0;34m\u001b[0m\u001b[0;34m\u001b[0m\u001b[0m\n\u001b[1;32m   2272\u001b[0m             \u001b[0mself\u001b[0m\u001b[0;34m.\u001b[0m\u001b[0m_loadtk\u001b[0m\u001b[0;34m(\u001b[0m\u001b[0;34m)\u001b[0m\u001b[0;34m\u001b[0m\u001b[0;34m\u001b[0m\u001b[0m\n",
            "\u001b[0;31mTclError\u001b[0m: no display name and no $DISPLAY environment variable"
          ]
        }
      ],
      "source": [
        "from tkinter import *\n",
        "from tkinter import messagebox\n",
        "count=0\n",
        "board=[['','','',],\n",
        "           ['','','',],\n",
        "           ['','','',]]\n",
        "\n",
        "\n",
        "#Whenever the user selects the quit option, this message is displayed\n",
        "def Quit():\n",
        "    global t\n",
        "    msg=messagebox.askquestion(\"Confirm\",\"Are you want to Quit? You still have chances!\")\n",
        "    if msg=='yes':\n",
        "        t.destroy()\n",
        "\n",
        "#Destructs the winner window and game window\n",
        "def destruct():\n",
        "    global t,winnerWindow\n",
        "    t.destroy()\n",
        "    winnerWindow.destroy()\n",
        "\n",
        "#Displays the winning condition\n",
        "def displayWinner(winner):\n",
        "    global t,winnerWindow,ID\n",
        "    winnerWindow=Tk()\n",
        "    winnerWindow.title(\"Winner Window\")\n",
        "    winnerWindow.configure(bg=\"Black\")\n",
        "    l1=Label(winnerWindow,text=\"THE WINNER IS: \",font=(\"COMIC SANS MS\",15),bg=\"Black\",fg=\"White\")\n",
        "    l1.pack()\n",
        "    l2=Label(winnerWindow,text=winner,font=(\"COMIC SANS MS\",15),bg=\"Black\",fg=\"White\")\n",
        "    l2.pack()\n",
        "    bproceed=Button(winnerWindow,text=\"Proceed\",font=(\"COMIC SANS MS\",10,\"bold\"),command=destruct)\n",
        "    bproceed.pack()\n",
        "\n",
        "#Checks for the winner\n",
        "def checkWinner():\n",
        "    global count,board\n",
        "    if (board[0][0]==board[0][1]==board[0][2]==\"X\" or board[1][0]==board[1][1]==board[1][2]==\"X\" or board[2][0]==board[2][1]==board[2][2]==\"X\" or\n",
        "        board[0][0]==board[1][0]==board[2][0]==\"X\" or board[0][1]==board[1][1]==board[2][1]==\"X\" or board[0][2]==board[1][2]==board[2][2]==\"X\" or\n",
        "        board[0][0]==board[1][1]==board[2][2]==\"X\" or board[0][2]==board[1][1]==board[2][0]==\"X\"):\n",
        "            displayWinner(\"Player X\")\n",
        "    elif (board[0][0]==board[0][1]==board[0][2]==\"O\" or board[1][0]==board[1][1]==board[1][2]==\"O\" or board[2][0]==board[2][1]==board[2][2]==\"O\" or\n",
        "          board[0][0]==board[1][0]==board[2][0]==\"O\" or board[0][1]==board[1][1]==board[2][1]==\"O\" or board[0][2]==board[1][2]==board[2][2]==\"O\" or\n",
        "          board[0][0]==board[1][1]==board[2][2]==\"O\" or board[0][2]==board[1][1]==board[2][0]==\"O\"):\n",
        "            displayWinner(\"Player O\")\n",
        "    elif count==9:\n",
        "        displayWinner(\"NONE! IT IS A TIE!\")\n",
        "\n",
        "#Changes the value of the button\n",
        "def changeVal(button,boardValRow,boardValCol):\n",
        "    global count\n",
        "\n",
        "    #Checking if button is available\n",
        "    if button[\"text\"]==\"\":\n",
        "        if count%2==0:\n",
        "            button[\"text\"]=\"X\"\n",
        "            l1=Label(t,text=\"PLAYER: 2(O)\",height=3,font=(\"COMIC SANS MS\",10,\"bold\"),bg=\"white\").grid(row=0,column=0)\n",
        "            board[boardValRow][boardValCol]=\"X\"\n",
        "        else:\n",
        "            button[\"text\"]=\"O\"\n",
        "            l1=Label(t,text=\"PLAYER: 1(X)\",height=3,font=(\"COMIC SANS MS\",10,\"bold\"),bg=\"white\").grid(row=0,column=0)\n",
        "            board[boardValRow][boardValCol]=\"O\"\n",
        "        count=count+1\n",
        "        if count>=5:\n",
        "            checkWinner()\n",
        "    else:\n",
        "        messagebox.showerror(\"Error\",\"This box already has a value!\")\n",
        "\n",
        "#Displays the GUI\n",
        "def TicTacToeGUI():\n",
        "    global t\n",
        "    t=Tk()\n",
        "    t.title(\"TIC TAC TOE\")\n",
        "    t.configure(bg=\"white\")  #Making the background of the window as white\n",
        "\n",
        "    #Displaying the player\n",
        "    l1=Label(t,text=\"PLAYER: 1(X)\",height=3,font=(\"COMIC SANS MS\",10,\"bold\"),bg=\"white\")\n",
        "    l1.grid(row=0,column=0)\n",
        "\n",
        "    #Quit button\n",
        "    exitButton=Button(t,text=\"Quit\",command=Quit,font=(\"COMIC SANS MS\",10,\"bold\"))\n",
        "    exitButton.grid(row=0,column=2)\n",
        "\n",
        "\n",
        "    #Grid buttons\n",
        "    b1=Button(t,text=\"\",height=4,width=8,bg=\"black\",activebackground=\"white\",fg=\"white\",font=\"Times 15 bold\",command=lambda: changeVal(b1,0,0))\n",
        "    b2=Button(t,text=\"\",height=4,width=8,bg=\"black\",activebackground=\"white\",fg=\"white\",font=\"Times 15 bold\",command=lambda: changeVal(b2,0,1))\n",
        "    b3=Button(t,text=\"\",height=4,width=8,bg=\"black\",activebackground=\"white\",fg=\"white\",font=\"Times 15 bold\",command=lambda: changeVal(b3,0,2))\n",
        "    b4=Button(t,text=\"\",height=4,width=8,bg=\"black\",activebackground=\"white\",fg=\"white\",font=\"Times 15 bold\",command=lambda: changeVal(b4,1,0))\n",
        "    b5=Button(t,text=\"\",height=4,width=8,bg=\"black\",activebackground=\"white\",fg=\"white\",font=\"Times 15 bold\",command=lambda: changeVal(b5,1,1))\n",
        "    b6=Button(t,text=\"\",height=4,width=8,bg=\"black\",activebackground=\"white\",fg=\"white\",font=\"Times 15 bold\",command=lambda: changeVal(b6,1,2))\n",
        "    b7=Button(t,text=\"\",height=4,width=8,bg=\"black\",activebackground=\"white\",fg=\"white\",font=\"Times 15 bold\",command=lambda: changeVal(b7,2,0))\n",
        "    b8=Button(t,text=\"\",height=4,width=8,bg=\"black\",activebackground=\"white\",fg=\"white\",font=\"Times 15 bold\",command=lambda: changeVal(b8,2,1))\n",
        "    b9=Button(t,text=\"\",height=4,width=8,bg=\"black\",activebackground=\"white\",fg=\"white\",font=\"Times 15 bold\",command=lambda: changeVal(b9,2,2))\n",
        "\n",
        "    b1.grid(row=2,column=0)\n",
        "    b2.grid(row=2,column=1)\n",
        "    b3.grid(row=2,column=2)\n",
        "\n",
        "    b4.grid(row=3,column=0)\n",
        "    b5.grid(row=3,column=1)\n",
        "    b6.grid(row=3,column=2)\n",
        "\n",
        "    b7.grid(row=4,column=0)\n",
        "    b8.grid(row=4,column=1)\n",
        "    b9.grid(row=4,column=2)\n",
        "    # t.mainloop()\n",
        "\n",
        "TicTacToeGUI()"
      ]
    },
    {
      "cell_type": "code",
      "source": [
        "import numpy as np\n",
        "\n",
        "def create_board():\n",
        "    return np.zeros((3,3), dtype=int)\n",
        "\n",
        "def place_piece(board, player, row, col):\n",
        "    board[row][col] = player\n",
        "\n",
        "def check_rows(board):\n",
        "    for row in board:\n",
        "        if all(val == row[0] and val != 0 for val in row):\n",
        "            return True\n",
        "    return False\n",
        "\n",
        "def check_cols(board):\n",
        "    for col in board.T:\n",
        "        if all(val == col[0] and val != 0 for val in col):\n",
        "            return True\n",
        "    return False\n",
        "\n",
        "def check_diags(board):\n",
        "    diag1 = [board[i][i] for i in range(3)]\n",
        "    diag2 = [board[i][2-i] for i in range(3)]\n",
        "    if all(val == diag1[0] and val != 0 for val in diag1):\n",
        "        return True\n",
        "    if all(val == diag2[0] and val != 0 for val in diag2):\n",
        "        return True\n",
        "    return False\n",
        "\n",
        "def check_win(board):\n",
        "    if check_rows(board) or check_cols(board) or check_diags(board):\n",
        "        return True\n",
        "    return False\n",
        "\n",
        "def play_game():\n",
        "    board = create_board()\n",
        "    player = 1\n",
        "    while True:\n",
        "        row = int(input(\"Enter row: \"))\n",
        "        col = int(input(\"Enter column: \"))\n",
        "        place_piece(board, player, row, col)\n",
        "        print(board)\n",
        "        if check_win(board):\n",
        "            print(f\"Player {player} wins!\")\n",
        "            break\n",
        "        player = 3 - player\n",
        "\n",
        "play_game()\n"
      ],
      "metadata": {
        "colab": {
          "base_uri": "https://localhost:8080/",
          "height": 432
        },
        "id": "n0M7zXmPqwug",
        "outputId": "e03cff61-92c4-433a-962d-14df2f96eec3"
      },
      "execution_count": null,
      "outputs": [
        {
          "output_type": "stream",
          "name": "stdout",
          "text": [
            "Enter row: 0\n",
            "Enter column: 0\n",
            "[[1 0 0]\n",
            " [0 0 0]\n",
            " [0 0 0]]\n"
          ]
        },
        {
          "output_type": "error",
          "ename": "KeyboardInterrupt",
          "evalue": "ignored",
          "traceback": [
            "\u001b[0;31m---------------------------------------------------------------------------\u001b[0m",
            "\u001b[0;31mKeyboardInterrupt\u001b[0m                         Traceback (most recent call last)",
            "\u001b[0;32m<ipython-input-4-fe0ea1ff50f0>\u001b[0m in \u001b[0;36m<module>\u001b[0;34m\u001b[0m\n\u001b[1;32m     46\u001b[0m         \u001b[0mplayer\u001b[0m \u001b[0;34m=\u001b[0m \u001b[0;36m3\u001b[0m \u001b[0;34m-\u001b[0m \u001b[0mplayer\u001b[0m\u001b[0;34m\u001b[0m\u001b[0;34m\u001b[0m\u001b[0m\n\u001b[1;32m     47\u001b[0m \u001b[0;34m\u001b[0m\u001b[0m\n\u001b[0;32m---> 48\u001b[0;31m \u001b[0mplay_game\u001b[0m\u001b[0;34m(\u001b[0m\u001b[0;34m)\u001b[0m\u001b[0;34m\u001b[0m\u001b[0;34m\u001b[0m\u001b[0m\n\u001b[0m",
            "\u001b[0;32m<ipython-input-4-fe0ea1ff50f0>\u001b[0m in \u001b[0;36mplay_game\u001b[0;34m()\u001b[0m\n\u001b[1;32m     37\u001b[0m     \u001b[0mplayer\u001b[0m \u001b[0;34m=\u001b[0m \u001b[0;36m1\u001b[0m\u001b[0;34m\u001b[0m\u001b[0;34m\u001b[0m\u001b[0m\n\u001b[1;32m     38\u001b[0m     \u001b[0;32mwhile\u001b[0m \u001b[0;32mTrue\u001b[0m\u001b[0;34m:\u001b[0m\u001b[0;34m\u001b[0m\u001b[0;34m\u001b[0m\u001b[0m\n\u001b[0;32m---> 39\u001b[0;31m         \u001b[0mrow\u001b[0m \u001b[0;34m=\u001b[0m \u001b[0mint\u001b[0m\u001b[0;34m(\u001b[0m\u001b[0minput\u001b[0m\u001b[0;34m(\u001b[0m\u001b[0;34m\"Enter row: \"\u001b[0m\u001b[0;34m)\u001b[0m\u001b[0;34m)\u001b[0m\u001b[0;34m\u001b[0m\u001b[0;34m\u001b[0m\u001b[0m\n\u001b[0m\u001b[1;32m     40\u001b[0m         \u001b[0mcol\u001b[0m \u001b[0;34m=\u001b[0m \u001b[0mint\u001b[0m\u001b[0;34m(\u001b[0m\u001b[0minput\u001b[0m\u001b[0;34m(\u001b[0m\u001b[0;34m\"Enter column: \"\u001b[0m\u001b[0;34m)\u001b[0m\u001b[0;34m)\u001b[0m\u001b[0;34m\u001b[0m\u001b[0;34m\u001b[0m\u001b[0m\n\u001b[1;32m     41\u001b[0m         \u001b[0mplace_piece\u001b[0m\u001b[0;34m(\u001b[0m\u001b[0mboard\u001b[0m\u001b[0;34m,\u001b[0m \u001b[0mplayer\u001b[0m\u001b[0;34m,\u001b[0m \u001b[0mrow\u001b[0m\u001b[0;34m,\u001b[0m \u001b[0mcol\u001b[0m\u001b[0;34m)\u001b[0m\u001b[0;34m\u001b[0m\u001b[0;34m\u001b[0m\u001b[0m\n",
            "\u001b[0;32m/usr/local/lib/python3.8/dist-packages/ipykernel/kernelbase.py\u001b[0m in \u001b[0;36mraw_input\u001b[0;34m(self, prompt)\u001b[0m\n\u001b[1;32m    858\u001b[0m                 \u001b[0;34m\"raw_input was called, but this frontend does not support input requests.\"\u001b[0m\u001b[0;34m\u001b[0m\u001b[0;34m\u001b[0m\u001b[0m\n\u001b[1;32m    859\u001b[0m             )\n\u001b[0;32m--> 860\u001b[0;31m         return self._input_request(str(prompt),\n\u001b[0m\u001b[1;32m    861\u001b[0m             \u001b[0mself\u001b[0m\u001b[0;34m.\u001b[0m\u001b[0m_parent_ident\u001b[0m\u001b[0;34m,\u001b[0m\u001b[0;34m\u001b[0m\u001b[0;34m\u001b[0m\u001b[0m\n\u001b[1;32m    862\u001b[0m             \u001b[0mself\u001b[0m\u001b[0;34m.\u001b[0m\u001b[0m_parent_header\u001b[0m\u001b[0;34m,\u001b[0m\u001b[0;34m\u001b[0m\u001b[0;34m\u001b[0m\u001b[0m\n",
            "\u001b[0;32m/usr/local/lib/python3.8/dist-packages/ipykernel/kernelbase.py\u001b[0m in \u001b[0;36m_input_request\u001b[0;34m(self, prompt, ident, parent, password)\u001b[0m\n\u001b[1;32m    902\u001b[0m             \u001b[0;32mexcept\u001b[0m \u001b[0mKeyboardInterrupt\u001b[0m\u001b[0;34m:\u001b[0m\u001b[0;34m\u001b[0m\u001b[0;34m\u001b[0m\u001b[0m\n\u001b[1;32m    903\u001b[0m                 \u001b[0;31m# re-raise KeyboardInterrupt, to truncate traceback\u001b[0m\u001b[0;34m\u001b[0m\u001b[0;34m\u001b[0m\u001b[0;34m\u001b[0m\u001b[0m\n\u001b[0;32m--> 904\u001b[0;31m                 \u001b[0;32mraise\u001b[0m \u001b[0mKeyboardInterrupt\u001b[0m\u001b[0;34m(\u001b[0m\u001b[0;34m\"Interrupted by user\"\u001b[0m\u001b[0;34m)\u001b[0m \u001b[0;32mfrom\u001b[0m \u001b[0;32mNone\u001b[0m\u001b[0;34m\u001b[0m\u001b[0;34m\u001b[0m\u001b[0m\n\u001b[0m\u001b[1;32m    905\u001b[0m             \u001b[0;32mexcept\u001b[0m \u001b[0mException\u001b[0m \u001b[0;32mas\u001b[0m \u001b[0me\u001b[0m\u001b[0;34m:\u001b[0m\u001b[0;34m\u001b[0m\u001b[0;34m\u001b[0m\u001b[0m\n\u001b[1;32m    906\u001b[0m                 \u001b[0mself\u001b[0m\u001b[0;34m.\u001b[0m\u001b[0mlog\u001b[0m\u001b[0;34m.\u001b[0m\u001b[0mwarning\u001b[0m\u001b[0;34m(\u001b[0m\u001b[0;34m\"Invalid Message:\"\u001b[0m\u001b[0;34m,\u001b[0m \u001b[0mexc_info\u001b[0m\u001b[0;34m=\u001b[0m\u001b[0;32mTrue\u001b[0m\u001b[0;34m)\u001b[0m\u001b[0;34m\u001b[0m\u001b[0;34m\u001b[0m\u001b[0m\n",
            "\u001b[0;31mKeyboardInterrupt\u001b[0m: Interrupted by user"
          ]
        }
      ]
    },
    {
      "cell_type": "code",
      "source": [],
      "metadata": {
        "id": "15XMeLcbqwrC"
      },
      "execution_count": null,
      "outputs": []
    },
    {
      "cell_type": "code",
      "source": [],
      "metadata": {
        "id": "NIFh7IMJqwoR"
      },
      "execution_count": null,
      "outputs": []
    }
  ]
}