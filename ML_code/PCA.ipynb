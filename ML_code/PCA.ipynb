{
  "nbformat": 4,
  "nbformat_minor": 0,
  "metadata": {
    "colab": {
      "provenance": []
    },
    "kernelspec": {
      "name": "python3",
      "display_name": "Python 3"
    },
    "language_info": {
      "name": "python"
    }
  },
  "cells": [
    {
      "cell_type": "markdown",
      "source": [
        "PCA from scratch <br>\n",
        "1. xi - mean of xi<br>\n",
        "2. X =  xi.transpose(xi)<br>\n",
        "3. cov(xi) = X/N-1<br>\n",
        "4. |cov(xi) - Lambda.I|x = 0<br>\n",
        "5. find lambda(i.e eigenvalues)<br>\n",
        "6. find eigenvextors for highest lambda<br>\n",
        "7. EV of (6) is PC1<br>"
      ],
      "metadata": {
        "id": "d6o0Uc7uNu71"
      }
    },
    {
      "cell_type": "code",
      "source": [
        "import numpy as np"
      ],
      "metadata": {
        "id": "TQfrDMO4YvaZ"
      },
      "execution_count": null,
      "outputs": []
    },
    {
      "cell_type": "markdown",
      "source": [
        "step 1."
      ],
      "metadata": {
        "id": "dkV8dkqKXPk0"
      }
    },
    {
      "cell_type": "code",
      "source": [
        "x1 = [1.0,2.0,6.0,3.0,4.0,5.0]\n",
        "x2 = [6.0,7.0,4.0,3.0,2.0,0.0]\n",
        "target = [7.0,8.0,6.0,3.8,7.68,9.7]\n",
        "x1_mean = np.mean(x1)\n",
        "x2_mean = np.mean(x2)\n",
        "\n",
        "x1 = x1 - x1_mean\n",
        "x2 = x2 - x2_mean\n",
        "X = np.column_stack((x1,x2))#dim 6x2\n",
        "print(X)"
      ],
      "metadata": {
        "id": "R-yOAOIxXNOR",
        "colab": {
          "base_uri": "https://localhost:8080/"
        },
        "outputId": "f35e3ad8-02f4-40b4-f22e-68560af682cd"
      },
      "execution_count": null,
      "outputs": [
        {
          "output_type": "stream",
          "name": "stdout",
          "text": [
            "[[-2.5         2.33333333]\n",
            " [-1.5         3.33333333]\n",
            " [ 2.5         0.33333333]\n",
            " [-0.5        -0.66666667]\n",
            " [ 0.5        -1.66666667]\n",
            " [ 1.5        -3.66666667]]\n"
          ]
        }
      ]
    },
    {
      "cell_type": "code",
      "source": [
        "import seaborn as sb\n",
        "import matplotlib.pyplot as plt\n",
        "\n",
        "plt.figure(figsize = (6,6))\n",
        "plt.scatter(x1,x2)"
      ],
      "metadata": {
        "colab": {
          "base_uri": "https://localhost:8080/",
          "height": 391
        },
        "id": "Em9MHjQH3BwJ",
        "outputId": "3e3bf334-c5da-47b2-f30e-b1baacae5b77"
      },
      "execution_count": null,
      "outputs": [
        {
          "output_type": "execute_result",
          "data": {
            "text/plain": [
              "<matplotlib.collections.PathCollection at 0x7f4eb379bf90>"
            ]
          },
          "metadata": {},
          "execution_count": 72
        },
        {
          "output_type": "display_data",
          "data": {
            "text/plain": [
              "<Figure size 432x432 with 1 Axes>"
            ],
            "image/png": "[encoded data removed]"
          },
          "metadata": {
            "needs_background": "light"
          }
        }
      ]
    },
    {
      "cell_type": "code",
      "source": [],
      "metadata": {
        "id": "TD9qBiQt3Bjy"
      },
      "execution_count": null,
      "outputs": []
    },
    {
      "cell_type": "markdown",
      "source": [
        "step 2"
      ],
      "metadata": {
        "id": "o7_-VEUnXSAZ"
      }
    },
    {
      "cell_type": "code",
      "source": [
        "def transpose(X):\n",
        "  X_T = [[0,0,0,0,0,0],[0,0,0,0,0,0]]\n",
        "  for i in range(len(X)):\n",
        "    for j in range(len(X[0])):\n",
        "      X_T[j][i] = X[i][j]\n",
        "  return(X_T)\n",
        "\n",
        "def pdt(X,Y):\n",
        "  result = [[0,0,0,0,0,0],\n",
        "         [0,0,0,0,0,0],\n",
        "         [0,0,0,0,0,0],\n",
        "         [0,0,0,0,0,0],\n",
        "         [0,0,0,0,0,0],\n",
        "         [0,0,0,0,0,0]]\n",
        "  for i in range(len(X)):\n",
        "    for j in range(len(Y[0])):\n",
        "        for k in range(len(Y)):\n",
        "            result[i][j] += X[i][k] * Y[k][j]\n",
        "  return(result)\n",
        "\n",
        "def covarience(X):\n",
        "  cov_X = pdt( X, transpose(X) )\n",
        "  N  = 1.0 / 5\n",
        "  cov_X = [[x*N for x in y] for y in cov_X]\n",
        "  return(cov_X)\n"
      ],
      "metadata": {
        "id": "xEFYeQsOYs-v"
      },
      "execution_count": null,
      "outputs": []
    },
    {
      "cell_type": "code",
      "source": [
        "for i in covarience(X): #dim 6x6\n",
        "    print(i)\n"
      ],
      "metadata": {
        "colab": {
          "base_uri": "https://localhost:8080/"
        },
        "collapsed": true,
        "id": "UZMM5qQTXNRB",
        "outputId": "028c020e-1a2f-426a-e5b2-589c1cb3c039"
      },
      "execution_count": null,
      "outputs": [
        {
          "output_type": "stream",
          "name": "stdout",
          "text": [
            "[2.3388888888888895, 2.305555555555556, -1.0944444444444443, -0.061111111111111074, -1.027777777777778, -2.4611111111111112]\n",
            "[2.305555555555556, 2.6722222222222225, -0.5277777777777777, -0.2944444444444444, -1.261111111111111, -2.8944444444444444]\n",
            "[-1.0944444444444443, -0.5277777777777777, 1.2722222222222224, -0.29444444444444445, 0.13888888888888884, 0.5055555555555554]\n",
            "[-0.061111111111111074, -0.2944444444444444, -0.29444444444444445, 0.13888888888888884, 0.17222222222222217, 0.3388888888888888]\n",
            "[-1.027777777777778, -1.261111111111111, 0.13888888888888884, 0.17222222222222217, 0.6055555555555555, 1.3722222222222222]\n",
            "[-2.4611111111111112, -2.8944444444444444, 0.5055555555555554, 0.3388888888888888, 1.3722222222222222, 3.138888888888889]\n"
          ]
        }
      ]
    },
    {
      "cell_type": "markdown",
      "source": [
        "step 3"
      ],
      "metadata": {
        "id": "SbHzOfXiXQiH"
      }
    },
    {
      "cell_type": "code",
      "source": [
        "from numpy.linalg import eig\n",
        "cov_X  = covarience(X)\n",
        "eigval, eigvec = eig(cov_X)\n",
        "eigval = np.sort(eigval)\n",
        "eigval = np.flip(eigval)\n",
        "eigvec = np.sort(eigvec)\n",
        "eigvec = np.flip(eigvec)\n",
        "print('E-value:',eigval ) #dim 1x6\n",
        "print('E-vector',eigvec ) #dim 6x6\n",
        "#e = 6x2"
      ],
      "metadata": {
        "id": "tChyNyYzXNTv",
        "colab": {
          "base_uri": "https://localhost:8080/"
        },
        "outputId": "c3d75578-9e5c-4eed-a7b3-aeebda04b942"
      },
      "execution_count": null,
      "outputs": [
        {
          "output_type": "stream",
          "name": "stdout",
          "text": [
            "E-value: [8.65361966e+00 1.51304701e+00 4.59017835e-16 1.64286514e-16\n",
            " 4.38901835e-17 4.27139653e-18]\n",
            "E-vector [[ 0.64023017  0.59385379  0.08046042 -0.23990607 -0.27457498 -0.31752149]\n",
            " [ 0.3641861   0.25535276  0.0243171  -0.09293633 -0.16520675 -0.91810681]\n",
            " [ 0.15216591  0.14923313  0.08552682  0.04600511 -0.28229305 -0.7676429 ]\n",
            " [ 0.83610838  0.39109761  0.15743457 -0.02240888 -0.33430659 -0.43716062]\n",
            " [ 0.31374457  0.27351648  0.17597753 -0.13510506 -0.35541699 -0.55080266]\n",
            " [ 0.56200577  0.02506302 -0.21739065 -0.32468003 -0.50184356 -0.80170812]]\n"
          ]
        }
      ]
    },
    {
      "cell_type": "markdown",
      "source": [],
      "metadata": {
        "id": "TYdrT08zXS-B"
      }
    },
    {
      "cell_type": "code",
      "source": [
        "print(eigvec[:,:1])\n",
        "print(eigvec[:][0:1])\n",
        "print(X[0])"
      ],
      "metadata": {
        "colab": {
          "base_uri": "https://localhost:8080/"
        },
        "id": "rvvMIjqN6ncv",
        "outputId": "19baca73-efe0-431d-e508-3211543895c4"
      },
      "execution_count": null,
      "outputs": [
        {
          "output_type": "stream",
          "name": "stdout",
          "text": [
            "[[0.64023017]\n",
            " [0.3641861 ]\n",
            " [0.15216591]\n",
            " [0.83610838]\n",
            " [0.31374457]\n",
            " [0.56200577]]\n",
            "[[ 0.64023017  0.59385379  0.08046042 -0.23990607 -0.27457498 -0.31752149]]\n",
            "[-2.5         2.33333333]\n"
          ]
        }
      ]
    },
    {
      "cell_type": "markdown",
      "source": [
        "pca 1"
      ],
      "metadata": {
        "id": "emA5XyrSDjuy"
      }
    },
    {
      "cell_type": "code",
      "source": [
        "c = [[-2.5,2.33333333]]\n",
        "c"
      ],
      "metadata": {
        "colab": {
          "base_uri": "https://localhost:8080/"
        },
        "id": "qbrZRgNkEnx7",
        "outputId": "334a2b39-4219-41c5-f825-3eb5d4b504c6"
      },
      "execution_count": null,
      "outputs": [
        {
          "output_type": "execute_result",
          "data": {
            "text/plain": [
              "[[-2.5, 2.33333333]]"
            ]
          },
          "metadata": {},
          "execution_count": 85
        }
      ]
    },
    {
      "cell_type": "code",
      "source": [
        "num_components = 1\n",
        "eigenvector_subset = eigvec[:,:1] #dim 6x1\n",
        "#Step-6\n",
        "X_reduced = np.dot(eigenvector_subset , [[-2.5,2.33333333]])  #dim (6,1) and (1,2)\n",
        "#return\n",
        "print(X_reduced)\n",
        "\n",
        "####6x2 and 6x2\n",
        "\n",
        "### 1x6"
      ],
      "metadata": {
        "id": "tPZK0MBzXNWm",
        "colab": {
          "base_uri": "https://localhost:8080/"
        },
        "outputId": "6f8c8806-ae65-42a3-96ce-c2c2cdc0ca36"
      },
      "execution_count": null,
      "outputs": [
        {
          "output_type": "stream",
          "name": "stdout",
          "text": [
            "[[-1.60057543  1.4938704 ]\n",
            " [-0.91046524  0.84976756]\n",
            " [-0.38041477  0.35505378]\n",
            " [-2.09027095  1.95091955]\n",
            " [-0.78436142  0.73207066]\n",
            " [-1.40501442  1.31134679]]\n"
          ]
        }
      ]
    },
    {
      "cell_type": "markdown",
      "source": [],
      "metadata": {
        "id": "L3MP-TM3XTvg"
      }
    },
    {
      "cell_type": "code",
      "source": [
        "import pandas as pd\n",
        "principal_df = pd.DataFrame(X_reduced , columns = ['PC1','PC2'])\n",
        "\n",
        "print(principal_df)"
      ],
      "metadata": {
        "id": "-R5F3DMgXNZa"
      },
      "execution_count": null,
      "outputs": []
    },
    {
      "cell_type": "markdown",
      "source": [],
      "metadata": {
        "id": "88pa-JyuXUNx"
      }
    },
    {
      "cell_type": "code",
      "source": [
        "import seaborn as sb\n",
        "import matplotlib.pyplot as plt\n",
        "\n",
        "plt.figure(figsize = (6,6))\n",
        "sb.scatterplot(data = principal_df , x = 'PC1',y = 'PC2' , s = 60 , palette= 'icefire')\n"
      ],
      "metadata": {
        "id": "MoGEK4exXNc7"
      },
      "execution_count": null,
      "outputs": []
    },
    {
      "cell_type": "code",
      "source": [],
      "metadata": {
        "id": "2Q1KSjxSwU2K"
      },
      "execution_count": null,
      "outputs": []
    }
  ]
}