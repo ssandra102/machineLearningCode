{
  "nbformat": 4,
  "nbformat_minor": 0,
  "metadata": {
    "colab": {
      "provenance": [],
      "gpuType": "T4"
    },
    "kernelspec": {
      "name": "python3",
      "display_name": "Python 3"
    },
    "language_info": {
      "name": "python"
    },
    "accelerator": "GPU"
  },
  "cells": [
    {
      "cell_type": "code",
      "execution_count": null,
      "metadata": {
        "id": "xrHNFAIDljR5",
        "colab": {
          "base_uri": "https://localhost:8080/"
        },
        "outputId": "ea14b415-4f69-4bd6-892b-f08d7e0f2f45"
      },
      "outputs": [
        {
          "output_type": "execute_result",
          "data": {
            "text/plain": [
              "array([0.00000000e+00, 2.42842793e-01, 3.06372549e-04, ...,\n",
              "       1.61225515e-01, 7.99325980e-01, 1.70015068e-01])"
            ]
          },
          "metadata": {},
          "execution_count": 2
        }
      ],
      "source": [
        "#@title Sunspot dataset\n",
        "#SUNSPOTS DATASET\n",
        "from pandas import read_csv\n",
        "import numpy as np\n",
        "from keras.models import Sequential\n",
        "from keras.layers import Dense, SimpleRNN\n",
        "from sklearn.preprocessing import MinMaxScaler\n",
        "import math\n",
        "import matplotlib.pyplot as plt\n",
        "from keras.preprocessing.sequence import TimeseriesGenerator\n",
        "\n",
        "Data = read_csv('/content/Sunspots.csv',index_col='Date',parse_dates=True)\n",
        "\n",
        "scaler = MinMaxScaler(feature_range=(0, 1))\n",
        "Data = scaler.fit_transform(Data).flatten()\n",
        "\n",
        "\n",
        "Train=Data[:5220]\n",
        "Test=Data[5220:]\n",
        "\n",
        "# define generator\n",
        "n_features = 1\n",
        "n_input = 7\n",
        "generator = TimeseriesGenerator(Train, Train, length=n_input, batch_size=1)\n",
        "generatorTest=TimeseriesGenerator(Test,Test,length=n_input,batch_size=1)\n",
        "\n",
        "\n",
        "# define model\n",
        "modelSunSpots=Sequential()\n",
        "modelSunSpots.add(SimpleRNN(units=100, input_shape=(n_input,n_features),activation='tanh'))\n",
        "modelSunSpots.add(Dense(units=1,activation='tanh'))\n",
        "\n",
        "modelSunSpots.compile(loss='mean_squared_error', optimizer='adam', metrics=['accuracy'])\n",
        "modelSunSpots.fit(generator, epochs=5)\n",
        "Predictions=modelSunSpots.predict(generatorTest)"
      ]
    },
    {
      "cell_type": "code",
      "source": [],
      "metadata": {
        "id": "yZguO8CPs6hq"
      },
      "execution_count": null,
      "outputs": []
    },
    {
      "cell_type": "code",
      "source": [
        "#@title PGM9 NIFTY-50\n",
        "\n",
        "from pandas import read_csv\n",
        "import pandas as pd\n",
        "import numpy as np\n",
        "from keras.models import Sequential\n",
        "from keras.layers import Dense, SimpleRNN\n",
        "from keras.layers import LSTM, GRU\n",
        "from sklearn.preprocessing import MinMaxScaler\n",
        "import math\n",
        "import matplotlib.pyplot as plt\n",
        "\n",
        "\n",
        "Data = read_csv('/content/NIFTY.csv',index_col='Date',parse_dates=True)\n",
        "\n",
        "scaler = MinMaxScaler(feature_range=(0, 1))\n",
        "Data = scaler.fit_transform(Data)#.flatten()\n",
        "\n",
        "\n",
        "\n",
        "Train=Data[:1006]\n",
        "Test=Data[1006:]\n",
        "\n",
        "n_input = 7\n",
        "n_features = 4\n",
        "generator = TimeseriesGenerator(Train, Train, length=n_input, batch_size=1)\n",
        "generatorTest=TimeseriesGenerator(Test,Test,length=n_input,batch_size=1)\n",
        "\n",
        "modelGoogle=Sequential()\n",
        "modelGoogle.add(SimpleRNN(units=100, input_shape=(n_input,n_features),activation='tanh'))\n",
        "modelGoogle.add(Dense(units=1,activation='tanh'))\n",
        "modelGoogle.compile(loss='mean_squared_error', optimizer='adam', metrics=['accuracy'])\n",
        "\n",
        "\n",
        "modelGoogle.fit(generator, epochs=5)"
      ],
      "metadata": {
        "colab": {
          "base_uri": "https://localhost:8080/"
        },
        "id": "nRuh8X4ps7JH",
        "outputId": "e252a7bf-2908-4d1f-c04c-15b105c3ebee"
      },
      "execution_count": null,
      "outputs": [
        {
          "output_type": "stream",
          "name": "stdout",
          "text": [
            "Epoch 1/5\n"
          ]
        },
        {
          "output_type": "stream",
          "name": "stderr",
          "text": [
            "<ipython-input-7-36a1ef9167b1>:14: UserWarning: Parsing dates in DD/MM/YYYY format when dayfirst=False (the default) was specified. This may lead to inconsistently parsed dates! Specify a format to ensure consistent parsing.\n",
            "  Data = read_csv('/content/NIFTY.csv',index_col='Date',parse_dates=True)\n"
          ]
        },
        {
          "output_type": "stream",
          "name": "stdout",
          "text": [
            "999/999 [==============================] - 8s 7ms/step - loss: 8.9901e-04 - accuracy: 0.0000e+00\n",
            "Epoch 2/5\n",
            "999/999 [==============================] - 8s 8ms/step - loss: 4.9317e-04 - accuracy: 0.0000e+00\n",
            "Epoch 3/5\n",
            "999/999 [==============================] - 9s 9ms/step - loss: 4.7130e-04 - accuracy: 0.0000e+00\n",
            "Epoch 4/5\n",
            "999/999 [==============================] - 7s 7ms/step - loss: 4.9529e-04 - accuracy: 0.0000e+00\n",
            "Epoch 5/5\n",
            "999/999 [==============================] - 7s 7ms/step - loss: 4.8818e-04 - accuracy: 0.0000e+00\n"
          ]
        },
        {
          "output_type": "execute_result",
          "data": {
            "text/plain": [
              "<keras.src.callbacks.History at 0x7c1271de90c0>"
            ]
          },
          "metadata": {},
          "execution_count": 7
        }
      ]
    },
    {
      "cell_type": "code",
      "source": [
        "Predictions=modelGoogle.predict(generatorTest)"
      ],
      "metadata": {
        "colab": {
          "base_uri": "https://localhost:8080/"
        },
        "id": "LUByNQ4Vu9Ci",
        "outputId": "87adbf19-a9d6-4e78-ffdf-f32ce684a856"
      },
      "execution_count": null,
      "outputs": [
        {
          "output_type": "stream",
          "name": "stdout",
          "text": [
            "1756/1756 [==============================] - 6s 3ms/step\n"
          ]
        }
      ]
    },
    {
      "cell_type": "code",
      "source": [
        "#@title PGM8 NIFTY-50 using LSTM\n",
        "\n",
        "model=Sequential()\n",
        "model.add(LSTM(units=100, input_shape=(n_input,n_features),activation='tanh'))\n",
        "model.add(Dense(units=1,activation='tanh'))\n",
        "model.compile(loss='mean_squared_error', optimizer='adam', metrics=['accuracy'])\n",
        "\n",
        "\n",
        "model.fit(generator, epochs=5)"
      ],
      "metadata": {
        "colab": {
          "base_uri": "https://localhost:8080/"
        },
        "id": "3G7BE7EkvbRh",
        "outputId": "2f7b1318-9461-453e-bd68-57d4e4896b24"
      },
      "execution_count": null,
      "outputs": [
        {
          "output_type": "stream",
          "name": "stdout",
          "text": [
            "Epoch 1/5\n",
            "999/999 [==============================] - 7s 4ms/step - loss: 0.0013 - accuracy: 0.0000e+00\n",
            "Epoch 2/5\n",
            "999/999 [==============================] - 5s 5ms/step - loss: 6.8916e-04 - accuracy: 0.0000e+00\n",
            "Epoch 3/5\n",
            "999/999 [==============================] - 4s 4ms/step - loss: 5.3937e-04 - accuracy: 0.0000e+00\n",
            "Epoch 4/5\n",
            "999/999 [==============================] - 5s 5ms/step - loss: 4.5825e-04 - accuracy: 0.0000e+00\n",
            "Epoch 5/5\n",
            "999/999 [==============================] - 6s 6ms/step - loss: 4.2651e-04 - accuracy: 0.0000e+00\n"
          ]
        },
        {
          "output_type": "execute_result",
          "data": {
            "text/plain": [
              "<keras.src.callbacks.History at 0x7c1271bfb6d0>"
            ]
          },
          "metadata": {},
          "execution_count": 9
        }
      ]
    },
    {
      "cell_type": "code",
      "source": [
        "Predictions=model.predict(generatorTest)"
      ],
      "metadata": {
        "colab": {
          "base_uri": "https://localhost:8080/"
        },
        "id": "oYrKF5ITwkU0",
        "outputId": "6b753010-3f3b-47a1-a12d-93f61844704e"
      },
      "execution_count": null,
      "outputs": [
        {
          "output_type": "stream",
          "name": "stdout",
          "text": [
            "1756/1756 [==============================] - 5s 3ms/step\n"
          ]
        }
      ]
    },
    {
      "cell_type": "code",
      "source": [
        "#@title PGM8 NIFTY-50 using GRU\n",
        "\n",
        "model=Sequential()\n",
        "model.add(GRU(units=100, input_shape=(n_input,n_features),activation='tanh'))\n",
        "model.add(Dense(units=1,activation='tanh'))\n",
        "model.compile(loss='mean_squared_error', optimizer='adam', metrics=['accuracy'])\n",
        "\n",
        "\n",
        "model.fit(generator, epochs=5)"
      ],
      "metadata": {
        "colab": {
          "base_uri": "https://localhost:8080/"
        },
        "id": "uv_-IydFSUeL",
        "outputId": "9947e35a-dd16-4c53-f832-78adf14ecc0a"
      },
      "execution_count": null,
      "outputs": [
        {
          "output_type": "stream",
          "name": "stdout",
          "text": [
            "Epoch 1/5\n",
            "999/999 [==============================] - 6s 4ms/step - loss: 7.1218e-04 - accuracy: 0.0000e+00\n",
            "Epoch 2/5\n",
            "999/999 [==============================] - 5s 5ms/step - loss: 4.5825e-04 - accuracy: 0.0000e+00\n",
            "Epoch 3/5\n",
            "999/999 [==============================] - 4s 4ms/step - loss: 4.4288e-04 - accuracy: 0.0000e+00\n",
            "Epoch 4/5\n",
            "999/999 [==============================] - 4s 4ms/step - loss: 4.5080e-04 - accuracy: 0.0000e+00\n",
            "Epoch 5/5\n",
            "999/999 [==============================] - 5s 5ms/step - loss: 4.1718e-04 - accuracy: 0.0000e+00\n"
          ]
        },
        {
          "output_type": "execute_result",
          "data": {
            "text/plain": [
              "<keras.src.callbacks.History at 0x7c1270201990>"
            ]
          },
          "metadata": {},
          "execution_count": 11
        }
      ]
    },
    {
      "cell_type": "code",
      "source": [
        "Predictions=model.predict(generatorTest)"
      ],
      "metadata": {
        "colab": {
          "base_uri": "https://localhost:8080/"
        },
        "id": "hBlmixEDSUhn",
        "outputId": "12256033-ef41-4aad-abf0-e0e26dabc860"
      },
      "execution_count": null,
      "outputs": [
        {
          "output_type": "stream",
          "name": "stdout",
          "text": [
            "1756/1756 [==============================] - 4s 2ms/step\n"
          ]
        }
      ]
    }
  ]
}