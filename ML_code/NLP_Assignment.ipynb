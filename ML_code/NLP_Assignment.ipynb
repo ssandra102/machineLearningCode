{
  "nbformat": 4,
  "nbformat_minor": 0,
  "metadata": {
    "colab": {
      "provenance": []
    },
    "kernelspec": {
      "name": "python3",
      "display_name": "Python 3"
    },
    "language_info": {
      "name": "python"
    }
  },
  "cells": [
    {
      "cell_type": "markdown",
      "source": [
        "### NLP Assignment\n",
        "* Name : Sandra Skaria\n",
        "* Classification model simulation<br>\n",
        "* Model - Bi-LSTM model to classify imbd text dataset"
      ],
      "metadata": {
        "id": "_KnCwDBWNKC8"
      }
    },
    {
      "cell_type": "code",
      "execution_count": null,
      "metadata": {
        "id": "is2c3WUeMTa1"
      },
      "outputs": [],
      "source": [
        "import numpy as np\n",
        "from keras.preprocessing import sequence\n",
        "from keras.models import Sequential\n",
        "from keras.layers import Dense, Dropout, Embedding, LSTM, Bidirectional\n",
        "from keras.datasets import imdb"
      ]
    },
    {
      "cell_type": "code",
      "source": [
        "n_unique_words = 10000 # cut texts after this number of words\n",
        "maxlen = 200\n",
        "batch_size = 128"
      ],
      "metadata": {
        "id": "Bre3HN-QMcjh"
      },
      "execution_count": null,
      "outputs": []
    },
    {
      "cell_type": "code",
      "source": [
        "(x_train, y_train),(x_test, y_test) = imdb.load_data(num_words=n_unique_words)"
      ],
      "metadata": {
        "colab": {
          "base_uri": "https://localhost:8080/"
        },
        "id": "_7KI_jnmMkCP",
        "outputId": "4e6ed20d-d5ad-4db9-fe1a-dbef29a61c15"
      },
      "execution_count": null,
      "outputs": [
        {
          "output_type": "stream",
          "name": "stdout",
          "text": [
            "Downloading data from https://storage.googleapis.com/tensorflow/tf-keras-datasets/imdb.npz\n",
            "17464789/17464789 [==============================] - 0s 0us/step\n"
          ]
        }
      ]
    },
    {
      "cell_type": "code",
      "source": [
        "x_train[0]"
      ],
      "metadata": {
        "colab": {
          "base_uri": "https://localhost:8080/"
        },
        "id": "1AGKODheTU1K",
        "outputId": "814e40c1-09bc-441c-9f18-68773de922b4"
      },
      "execution_count": null,
      "outputs": [
        {
          "output_type": "execute_result",
          "data": {
            "text/plain": [
              "array([   5,   25,  100,   43,  838,  112,   50,  670,    2,    9,   35,\n",
              "        480,  284,    5,  150,    4,  172,  112,  167,    2,  336,  385,\n",
              "         39,    4,  172, 4536, 1111,   17,  546,   38,   13,  447,    4,\n",
              "        192,   50,   16,    6,  147, 2025,   19,   14,   22,    4, 1920,\n",
              "       4613,  469,    4,   22,   71,   87,   12,   16,   43,  530,   38,\n",
              "         76,   15,   13, 1247,    4,   22,   17,  515,   17,   12,   16,\n",
              "        626,   18,    2,    5,   62,  386,   12,    8,  316,    8,  106,\n",
              "          5,    4, 2223, 5244,   16,  480,   66, 3785,   33,    4,  130,\n",
              "         12,   16,   38,  619,    5,   25,  124,   51,   36,  135,   48,\n",
              "         25, 1415,   33,    6,   22,   12,  215,   28,   77,   52,    5,\n",
              "         14,  407,   16,   82,    2,    8,    4,  107,  117, 5952,   15,\n",
              "        256,    4,    2,    7, 3766,    5,  723,   36,   71,   43,  530,\n",
              "        476,   26,  400,  317,   46,    7,    4,    2, 1029,   13,  104,\n",
              "         88,    4,  381,   15,  297,   98,   32, 2071,   56,   26,  141,\n",
              "          6,  194, 7486,   18,    4,  226,   22,   21,  134,  476,   26,\n",
              "        480,    5,  144,   30, 5535,   18,   51,   36,   28,  224,   92,\n",
              "         25,  104,    4,  226,   65,   16,   38, 1334,   88,   12,   16,\n",
              "        283,    5,   16, 4472,  113,  103,   32,   15,   16, 5345,   19,\n",
              "        178,   32], dtype=int32)"
            ]
          },
          "metadata": {},
          "execution_count": 9
        }
      ]
    },
    {
      "cell_type": "code",
      "source": [
        "x_train = sequence.pad_sequences(x_train, maxlen=maxlen)\n",
        "x_test = sequence.pad_sequences(x_test, maxlen=maxlen)\n",
        "y_train = np.array(y_train)\n",
        "y_test = np.array(y_test)"
      ],
      "metadata": {
        "id": "j6MZwXU6MoNC"
      },
      "execution_count": null,
      "outputs": []
    },
    {
      "cell_type": "code",
      "source": [
        "x_train"
      ],
      "metadata": {
        "colab": {
          "base_uri": "https://localhost:8080/"
        },
        "id": "UG544zz8MxUJ",
        "outputId": "70afceed-d21f-4812-a574-f82ffadd24d9"
      },
      "execution_count": null,
      "outputs": [
        {
          "output_type": "execute_result",
          "data": {
            "text/plain": [
              "array([[   5,   25,  100, ...,   19,  178,   32],\n",
              "       [   0,    0,    0, ...,   16,  145,   95],\n",
              "       [   0,    0,    0, ...,    7,  129,  113],\n",
              "       ...,\n",
              "       [   0,    0,    0, ...,    4, 3586,    2],\n",
              "       [   0,    0,    0, ...,   12,    9,   23],\n",
              "       [   0,    0,    0, ...,  204,  131,    9]], dtype=int32)"
            ]
          },
          "metadata": {},
          "execution_count": 5
        }
      ]
    },
    {
      "cell_type": "code",
      "source": [
        "model = Sequential()\n",
        "model.add(Embedding(n_unique_words, 128, input_length=maxlen))\n",
        "model.add(Bidirectional(LSTM(64)))\n",
        "model.add(Dropout(0.5))\n",
        "model.add(Dense(1, activation='sigmoid'))\n",
        "model.compile(loss='binary_crossentropy', optimizer='adam', metrics=['accuracy'])"
      ],
      "metadata": {
        "id": "WPzjXjZ_M1lO"
      },
      "execution_count": null,
      "outputs": []
    },
    {
      "cell_type": "code",
      "source": [
        "history=model.fit(x_train, y_train,\n",
        "           batch_size=batch_size,\n",
        "           epochs=12,\n",
        "           validation_data=[x_test, y_test])\n",
        "print(history.history['loss'])\n",
        "print(history.history['accuracy'])"
      ],
      "metadata": {
        "colab": {
          "base_uri": "https://localhost:8080/"
        },
        "id": "AbFlQ0VmM5xB",
        "outputId": "16cb8e20-3b6a-49e2-cfef-b07dcd52b941"
      },
      "execution_count": null,
      "outputs": [
        {
          "output_type": "stream",
          "name": "stdout",
          "text": [
            "Epoch 1/12\n",
            "196/196 [==============================] - 214s 1s/step - loss: 0.4640 - accuracy: 0.7743 - val_loss: 0.3153 - val_accuracy: 0.8670\n",
            "Epoch 2/12\n",
            "196/196 [==============================] - 215s 1s/step - loss: 0.2505 - accuracy: 0.9056 - val_loss: 0.3122 - val_accuracy: 0.8751\n",
            "Epoch 3/12\n",
            "196/196 [==============================] - 176s 898ms/step - loss: 0.1809 - accuracy: 0.9336 - val_loss: 0.3396 - val_accuracy: 0.8690\n",
            "Epoch 4/12\n",
            "196/196 [==============================] - 176s 897ms/step - loss: 0.1397 - accuracy: 0.9507 - val_loss: 0.4138 - val_accuracy: 0.8606\n",
            "Epoch 5/12\n",
            "196/196 [==============================] - 216s 1s/step - loss: 0.1082 - accuracy: 0.9634 - val_loss: 0.4992 - val_accuracy: 0.8568\n",
            "Epoch 6/12\n",
            "196/196 [==============================] - 216s 1s/step - loss: 0.1193 - accuracy: 0.9579 - val_loss: 0.4535 - val_accuracy: 0.8467\n",
            "Epoch 7/12\n",
            "196/196 [==============================] - 176s 899ms/step - loss: 0.0849 - accuracy: 0.9720 - val_loss: 0.4386 - val_accuracy: 0.8546\n",
            "Epoch 8/12\n",
            "196/196 [==============================] - 176s 899ms/step - loss: 0.0704 - accuracy: 0.9770 - val_loss: 0.6666 - val_accuracy: 0.8465\n",
            "Epoch 9/12\n",
            "196/196 [==============================] - 182s 929ms/step - loss: 0.0620 - accuracy: 0.9805 - val_loss: 0.5567 - val_accuracy: 0.8483\n",
            "Epoch 10/12\n",
            "196/196 [==============================] - 171s 875ms/step - loss: 0.0529 - accuracy: 0.9833 - val_loss: 0.6236 - val_accuracy: 0.8552\n",
            "Epoch 11/12\n",
            "196/196 [==============================] - 171s 872ms/step - loss: 0.0387 - accuracy: 0.9886 - val_loss: 0.6155 - val_accuracy: 0.8561\n",
            "Epoch 12/12\n",
            "196/196 [==============================] - 170s 869ms/step - loss: 0.0437 - accuracy: 0.9865 - val_loss: 0.6663 - val_accuracy: 0.8494\n",
            "[0.46403050422668457, 0.2504555284976959, 0.18092641234397888, 0.1396646797657013, 0.10821869969367981, 0.11925877630710602, 0.08493666350841522, 0.07042813301086426, 0.06196138262748718, 0.05290854349732399, 0.03871499374508858, 0.043708473443984985]\n",
            "[0.7742800116539001, 0.9056400060653687, 0.9335600137710571, 0.9507200121879578, 0.9634000062942505, 0.9578800201416016, 0.972000002861023, 0.9769600033760071, 0.9805200099945068, 0.9833199977874756, 0.9885600209236145, 0.986519992351532]\n"
          ]
        }
      ]
    },
    {
      "cell_type": "code",
      "source": [
        "from matplotlib import pyplot\n",
        "pyplot.plot(history.history['loss'])\n",
        "pyplot.plot(history.history['accuracy'])\n",
        "pyplot.title('model loss vs accuracy')\n",
        "pyplot.xlabel('epoch')\n",
        "pyplot.legend(['loss', 'accuracy'], loc='upper right')\n",
        "pyplot.show()"
      ],
      "metadata": {
        "colab": {
          "base_uri": "https://localhost:8080/",
          "height": 472
        },
        "id": "G4M8p7DvM-5O",
        "outputId": "d73b12ad-9f3c-459b-f86e-0c16a1da7a51"
      },
      "execution_count": null,
      "outputs": [
        {
          "output_type": "display_data",
          "data": {
            "text/plain": [
              "<Figure size 640x480 with 1 Axes>"
            ],
            "image/png": "[encoded data removed]"
          },
          "metadata": {}
        }
      ]
    },
    {
      "cell_type": "code",
      "source": [],
      "metadata": {
        "id": "na2KYvTuV0E1"
      },
      "execution_count": null,
      "outputs": []
    }
  ]
}