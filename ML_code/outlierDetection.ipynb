{
  "nbformat": 4,
  "nbformat_minor": 0,
  "metadata": {
    "colab": {
      "provenance": []
    },
    "kernelspec": {
      "name": "python3",
      "display_name": "Python 3"
    },
    "language_info": {
      "name": "python"
    }
  },
  "cells": [
    {
      "cell_type": "code",
      "execution_count": null,
      "metadata": {
        "id": "wWFWKg2XHvrh"
      },
      "outputs": [],
      "source": [
        "\n",
        "data = [0,9,11,23,7,150,-205,12,7,10]\n",
        "# sample= [15, 101, 18, 7, 13, 16, 11, 21, 5, 15, 10, 9]\n",
        "\n",
        "outliers = []\n",
        "def detect_outliers_zscore(data):\n",
        "    thres = 2\n",
        "    mean = np.mean(data)\n",
        "    std = np.std(data)\n",
        "    # print(mean, std)\n",
        "    for i in data:\n",
        "        z_score = (i-mean)/std\n",
        "        print(i, \": \", z_score)\n",
        "        if (np.abs(z_score) > thres):\n",
        "            outliers.append(i)\n",
        "    return outliers# Driver code\n",
        "sample_outliers = detect_outliers_zscore(data)\n",
        "# print(\"Outliers from Z-scores method: \", sample_outliers)\n"
      ]
    },
    {
      "cell_type": "code",
      "source": [
        "data = [0,9,11,23,7,150,-205,12,7,10]\n",
        "\n",
        "outliers = []\n",
        "\n",
        "def detect_outliers_iqr(data):\n",
        "    data = sorted(data)\n",
        "    q1 = np.percentile(data, 25)\n",
        "    q3 = np.percentile(data, 75)\n",
        "    # print(q1, q3)\n",
        "    IQR = q3-q1\n",
        "    lwr_bound = q1-(1.5*IQR)\n",
        "\n",
        "    upr_bound = q3+(1.5*IQR)\n",
        "    print(lwr_bound, upr_bound)\n",
        "    for i in data:\n",
        "        if (i<lwr_bound or i>upr_bound):\n",
        "            outliers.append(i)\n",
        "    return outliers# Driver code\n",
        "\n",
        "sample_outliers = detect_outliers_iqr(data)\n",
        "print(\"Outliers from IQR method: \", sample_outliers)"
      ],
      "metadata": {
        "id": "pZEeaBhgHzjm"
      },
      "execution_count": null,
      "outputs": []
    },
    {
      "cell_type": "code",
      "source": [],
      "metadata": {
        "id": "ZvhlVfIZHzmu"
      },
      "execution_count": null,
      "outputs": []
    },
    {
      "cell_type": "code",
      "source": [],
      "metadata": {
        "id": "a4i1kv2tHzpu"
      },
      "execution_count": null,
      "outputs": []
    }
  ]
}