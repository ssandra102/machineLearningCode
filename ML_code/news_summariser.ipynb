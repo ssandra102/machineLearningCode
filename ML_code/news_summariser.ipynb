{
  "nbformat": 4,
  "nbformat_minor": 0,
  "metadata": {
    "colab": {
      "provenance": []
    },
    "kernelspec": {
      "name": "python3",
      "display_name": "Python 3"
    },
    "language_info": {
      "name": "python"
    }
  },
  "cells": [
    {
      "cell_type": "code",
      "execution_count": null,
      "metadata": {
        "colab": {
          "base_uri": "https://localhost:8080/",
          "height": 36
        },
        "id": "s5XrrrYDqj1C",
        "outputId": "a508d061-fa32-4f65-a4e2-b9901faf41fc"
      },
      "outputs": [
        {
          "output_type": "execute_result",
          "data": {
            "text/plain": [
              "'hiring thank you program for the engineering interest sachs in campus your goldman 2022-23 .'"
            ],
            "application/vnd.google.colaboratory.intrinsic+json": {
              "type": "string"
            }
          },
          "metadata": {},
          "execution_count": 3
        }
      ],
      "source": [
        "import tensorflow as tf\n",
        "from sklearn.feature_extraction.text import TfidfVectorizer\n",
        "from sklearn.svm import LinearSVC\n",
        "from sklearn.pipeline import Pipeline\n",
        "\n",
        "def summarize(text, n=100):\n",
        "    # Preprocess the text data\n",
        "    text = text.lower()\n",
        "    text = text.replace('.', ' .')  # Add spaces around punctuation to prevent merging words\n",
        "    words = text.split()\n",
        "    words = [word for word in words]  # Remove stop words\n",
        "\n",
        "    # Extract features from the text\n",
        "    vectorizer = TfidfVectorizer()\n",
        "    X = vectorizer.fit_transform(words)\n",
        "\n",
        "    # Train a linear SVM model\n",
        "    model = LinearSVC()\n",
        "    model.fit(X, range(len(words)))\n",
        "\n",
        "    # Select the top n words with the highest score\n",
        "    top_n = sorted(range(len(model.coef_[0])), key=lambda i: model.coef_[0][i], reverse=True)[:n]\n",
        "    summary = ' '.join([words[i] for i in top_n])\n",
        "\n",
        "    return summary\n",
        "\n",
        "text = \"Thank you for your interest in the Goldman Sachs Engineering Campus Hiring Program 2022-23.\"\n",
        "summarize(text)"
      ]
    },
    {
      "cell_type": "code",
      "source": [],
      "metadata": {
        "id": "VSXvLX9Jwl5K"
      },
      "execution_count": null,
      "outputs": []
    },
    {
      "cell_type": "code",
      "source": [
        "import numpy as np\n",
        "import pandas as pd\n",
        "from sklearn.feature_extraction.text import TfidfVectorizer\n",
        "from sklearn.linear_model import Ridge\n",
        "\n",
        "# Preprocess the text data\n",
        "def preprocess_text(text):\n",
        "    # Lowercase the text\n",
        "    text = text.lower()\n",
        "    # Remove punctuation\n",
        "    text = text.translate(text.maketrans('', '', string.punctuation))\n",
        "    # Stem or lemmatize the words\n",
        "    text = stem_or_lemmatize(text)\n",
        "    # Remove stop words\n",
        "    text = remove_stop_words(text)\n",
        "    return text\n",
        "\n",
        "# Extract features from the text\n",
        "def extract_features(text):\n",
        "    # Create a TfidfVectorizer object\n",
        "    vectorizer = TfidfVectorizer()\n",
        "    # Generate the TF-IDF vectors\n",
        "    X = vectorizer.fit_transform(text)\n",
        "    return X\n",
        "\n",
        "# Train a machine learning model\n",
        "def train_model(X, y):\n",
        "    # Create a Ridge regression object\n",
        "    model = Ridge()\n",
        "    # Train the model using the training data\n",
        "    model.fit(X, y)\n",
        "    return model\n",
        "\n",
        "# Test and evaluate the model\n",
        "def evaluate_model(model, X_test, y_test):\n",
        "    # Make predictions on the test data\n",
        "    y_pred = model.predict(X_test)\n",
        "    # Calculate the precision, recall, and F1 score\n",
        "    precision = precision_score(y_test, y_pred)\n",
        "    recall = recall_score(y_test, y_pred)\n",
        "    f1 = f1_score(y_test, y_pred)\n",
        "    # Print the evaluation metrics\n",
        "    print(\"Precision:\", precision)\n",
        "    print(\"Recall:\", recall)\n",
        "    print(\"F1 score:\", f1)\n",
        "\n",
        "# Use the model to summarize text\n",
        "def summarize_text(model, text, num_sentences):\n",
        "    # Preprocess the text\n",
        "    text = preprocess_text(text)\n",
        "    # Extract features from the text\n",
        "    X = extract_features([text])\n",
        "    # Make predictions on the text\n",
        "    y_pred = model.predict(X)\n",
        "    # Sort the sentences by their predicted importance\n",
        "    sorted_sentences = sorted(zip(y_pred, text), reverse=True)\n",
        "    # Select the top N sentences\n",
        "    top_sentences = sorted_sentences[:num_sentences]\n",
        "    # Concatenate the top sentences into a single summary\n",
        "    summary = \" \".join([sentence[1] for sentence in top_sentences])\n",
        "    return summary\n",
        "\n",
        "# Preprocess the text data\n",
        "text_data = [preprocess_text(text) for text in text_data]\n",
        "\n",
        "# Extract features from the text data\n",
        "X = extract_features(text_data)\n",
        "\n",
        "# Split the data into training and test sets\n",
        "X_train, X_test, y_train, y_test = train_test_split(X, y, test_size=0.2)\n",
        "\n",
        "# Train a machine learning model\n",
        "model = train_model(X_train, y_train)\n",
        "\n",
        "# Test and evaluate the model\n",
        "evaluate_model(model, X_test, y_test\n"
      ],
      "metadata": {
        "id": "aTgxLAxewlsl"
      },
      "execution_count": null,
      "outputs": []
    }
  ]
}