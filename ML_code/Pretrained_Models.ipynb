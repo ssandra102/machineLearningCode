{
  "cells": [
    {
      "cell_type": "code",
      "execution_count": null,
      "id": "3bde1126",
      "metadata": {
        "colab": {
          "base_uri": "https://localhost:8080/"
        },
        "id": "3bde1126",
        "outputId": "11f64905-7885-4f0c-f972-9d158116b41b"
      },
      "outputs": [
        {
          "output_type": "stream",
          "name": "stdout",
          "text": [
            "Downloading data from https://storage.googleapis.com/tensorflow/tf-keras-datasets/mnist.npz\n",
            "11490434/11490434 [==============================] - 0s 0us/step\n"
          ]
        }
      ],
      "source": [
        "import tensorflow as tf\n",
        "from keras.datasets import mnist\n",
        "(X_train, y_train), (X_test, y_test) = mnist.load_data()\n",
        "\n",
        "import numpy as np\n",
        "X_train = np.repeat(tf.image.resize(X_train[..., np.newaxis], (32, 32)).numpy(), 3, axis=-1)\n",
        "X_test = np.repeat(tf.image.resize(X_test[..., np.newaxis], (32, 32)).numpy(), 3, axis=-1)\n",
        "\n",
        "from tensorflow.keras.utils import to_categorical\n",
        "y_train = to_categorical(y_train, num_classes=10)\n",
        "y_test = to_categorical(y_test, num_classes=10)\n",
        "X_train.shape\n",
        "\n",
        "from tensorflow.keras.applications.vgg16 import VGG16, preprocess_input\n",
        "base_model = VGG16(weights='imagenet', include_top=False, input_shape=X_train[0].shape)\n",
        "base_model.trainable = False\n",
        "\n",
        "X_train = preprocess_input(X_train)\n",
        "X_test = preprocess_input(X_test)\n",
        "\n",
        "base_model.summary()\n",
        "\n",
        "from tensorflow.keras.layers import Dense, Flatten\n",
        "from tensorflow.keras import models\n",
        "\n",
        "# flatten_layer = Flatten()\n",
        "# dense_layer_1 = Dense(50, activation='relu')\n",
        "# dense_layer_2 = Dense(20, activation='relu')\n",
        "# prediction_layer = Dense(10, activation='softmax')\n",
        "\n",
        "# model = models.Sequential([base_model, dense_layer_1, dense_layer_2, prediction_layer])\n",
        "flatten_layer = Flatten()(base_model.output)\n",
        "\n",
        "# Dense layers\n",
        "dense_layer_1 = Dense(50, activation='relu')(flatten_layer)\n",
        "dense_layer_2 = Dense(20, activation='relu')(dense_layer_1)\n",
        "prediction_layer = Dense(10, activation='softmax')(dense_layer_2)\n",
        "\n",
        "# Create the model\n",
        "model = models.Model(inputs=base_model.input, outputs=prediction_layer)\n",
        "model.summary()\n",
        "model.compile(loss='categorical_crossentropy', optimizer='adam', metrics=['accuracy'])\n",
        "model.fit(X_train, y_train, epochs=3, validation_data=(X_test, y_test))\n"
      ]
    }
  ],
  "metadata": {
    "kernelspec": {
      "display_name": "Python 3 (ipykernel)",
      "language": "python",
      "name": "python3"
    },
    "language_info": {
      "codemirror_mode": {
        "name": "ipython",
        "version": 3
      },
      "file_extension": ".py",
      "mimetype": "text/x-python",
      "name": "python",
      "nbconvert_exporter": "python",
      "pygments_lexer": "ipython3",
      "version": "3.11.4"
    },
    "colab": {
      "provenance": []
    }
  },
  "nbformat": 4,
  "nbformat_minor": 5
}