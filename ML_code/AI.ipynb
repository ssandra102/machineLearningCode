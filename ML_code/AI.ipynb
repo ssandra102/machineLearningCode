{
  "nbformat": 4,
  "nbformat_minor": 0,
  "metadata": {
    "colab": {
      "provenance": []
    },
    "kernelspec": {
      "name": "python3",
      "display_name": "Python 3"
    },
    "language_info": {
      "name": "python"
    }
  },
  "cells": [
    {
      "cell_type": "code",
      "source": [],
      "metadata": {
        "id": "fL4y5gFpTiUP"
      },
      "execution_count": null,
      "outputs": []
    },
    {
      "cell_type": "code",
      "source": [],
      "metadata": {
        "id": "huUKfMa6TiP_"
      },
      "execution_count": null,
      "outputs": []
    },
    {
      "cell_type": "code",
      "source": [],
      "metadata": {
        "id": "mvjBO8csTiNU"
      },
      "execution_count": null,
      "outputs": []
    },
    {
      "cell_type": "code",
      "source": [],
      "metadata": {
        "id": "uhf68T8vTiKb"
      },
      "execution_count": null,
      "outputs": []
    },
    {
      "cell_type": "code",
      "source": [],
      "metadata": {
        "id": "Bm_EpJOaSzJG"
      },
      "execution_count": null,
      "outputs": []
    },
    {
      "cell_type": "code",
      "source": [
        "### dfs and dfs\n",
        "\n",
        "graph={}\n",
        "n=int(input(\"Enter the no. of nodes : \"))\n",
        "\n",
        "for i in range(n):\n",
        "    l=[]\n",
        "    keys = input()\n",
        "    values=1\n",
        "    while(values != ''):\n",
        "        values = input()\n",
        "        if(values!=''):\n",
        "            l.append(values)\n",
        "    graph[keys] = l\n",
        "    print(graph)\n",
        "\n",
        "visited = []\n",
        "queue = []\n",
        "\n",
        "def bfs(visited, graph, node):\n",
        "  visited.append(node)\n",
        "  queue.append(node)\n",
        "\n",
        "  while queue:\n",
        "    m = queue.pop(0)\n",
        "    print (m, end = \" \")\n",
        "\n",
        "    for neighbour in graph[m]:\n",
        "      if neighbour not in visited:\n",
        "        visited.append(neighbour)\n",
        "        queue.append(neighbour)\n",
        "node=input(\"Enter the first node : \")\n",
        "print(\"Breadth-First Search\")\n",
        "bfs(visited, graph, node)\n",
        "\n",
        "\n"
      ],
      "metadata": {
        "id": "4VfKKy1ISzA3"
      },
      "execution_count": null,
      "outputs": []
    },
    {
      "cell_type": "code",
      "source": [
        "\n",
        "graph={}\n",
        "n=int(input(\"Enter the no. of nodes : \"))\n",
        "\n",
        "for i in range(n):\n",
        "    l=[]\n",
        "    keys = input()\n",
        "    values=1\n",
        "    while(values != ''):\n",
        "        values = input()\n",
        "        if(values!=''):\n",
        "            l.append(values)\n",
        "    graph[keys] = l\n",
        "    print(graph)\n",
        "\n",
        "visited = set()\n",
        "\n",
        "def dfs(visited, graph, node):\n",
        "    if node not in visited:\n",
        "        print (node,end=\" \")\n",
        "        visited.add(node)\n",
        "        for neighbour in graph[node]:\n",
        "            dfs(visited, graph, neighbour)\n",
        "\n",
        "node=input(\"Enter the first node : \")\n",
        "print(\"Following is the Depth-First Search\")\n",
        "dfs(visited, graph, node)"
      ],
      "metadata": {
        "id": "xSD5SAC7Tjwh"
      },
      "execution_count": null,
      "outputs": []
    },
    {
      "cell_type": "code",
      "source": [
        "visited = []\n",
        "queue = []\n",
        "\n",
        "def bfs(visited, graph, node):\n",
        "  visited.append(node)\n",
        "  queue.append(node)\n",
        "\n",
        "  while queue:\n",
        "    m = queue.pop(0)\n",
        "    print (m, end = \" \")\n",
        "\n",
        "    for neighbour in graph[m]:\n",
        "      if neighbour not in visited:\n",
        "        visited.append(neighbour)\n",
        "        queue.append(neighbour)\n",
        "node=input(\"Enter the first node : \")\n",
        "print(\"Breadth-First Search\")\n",
        "bfs(visited, graph, node)\n"
      ],
      "metadata": {
        "id": "jpeFMRkfTjta"
      },
      "execution_count": null,
      "outputs": []
    },
    {
      "cell_type": "code",
      "source": [
        "### water jug\n",
        "\n",
        "jug1=int(input(\"enter capacity of jug 1:  \"))\n",
        "jug2=int(input(\"enter capacity of jug 2:  \"))\n",
        "target=int(input(\"enter target:  \"))\n",
        "rejug=int(input(\"enter required jug: \"))\n",
        "\n",
        "from collections import defaultdict\n",
        "visited = defaultdict(lambda: False)\n",
        "\n",
        "def waterjug(amount1,amount2):\n",
        "\n",
        "    if((rejug==1 and amount1==target) or (rejug==2 and amount2==target ) ):\n",
        "        print(amount1,amount2)\n",
        "        print(f'target reached: {target}')\n",
        "        return True\n",
        "\n",
        "    if(visited[(amount1,amount2)]==False):\n",
        "        print(amount1,amount2)\n",
        "        visited[(amount1,amount2)]=True\n",
        "\n",
        "        return (waterjug(jug1,amount2) or\n",
        "                waterjug(amount1,0) or\n",
        "                waterjug(0,amount2) or\n",
        "                waterjug(amount1,jug2) or\n",
        "                waterjug(amount1 + min(amount2, (jug1-amount1)) , amount2 - min(amount2, (jug1-amount1))) or\n",
        "                waterjug(amount1 - min(amount1, (jug2-amount2)) , amount2 + min(amount1, (jug2-amount2)))\n",
        "               )\n",
        "    else:\n",
        "        return False\n",
        "\n",
        "print(\"The Steps are\")\n",
        "waterjug(0,0)"
      ],
      "metadata": {
        "id": "3uuK7a2lTjqY",
        "colab": {
          "base_uri": "https://localhost:8080/"
        },
        "outputId": "2626e6f6-c124-4a3e-a48a-843c9c89765f"
      },
      "execution_count": null,
      "outputs": [
        {
          "output_type": "stream",
          "name": "stdout",
          "text": [
            "enter capacity of jug 1:  10\n",
            "enter capacity of jug 2:  4\n",
            "enter target:  6\n",
            "enter required jug: 10\n",
            "The Steps are\n",
            "0 0\n",
            "10 0\n",
            "10 4\n",
            "0 4\n",
            "4 0\n",
            "4 4\n",
            "8 0\n",
            "8 4\n",
            "10 2\n",
            "0 2\n",
            "2 0\n",
            "2 4\n",
            "6 0\n",
            "6 4\n"
          ]
        },
        {
          "output_type": "execute_result",
          "data": {
            "text/plain": [
              "False"
            ]
          },
          "metadata": {},
          "execution_count": 3
        }
      ]
    },
    {
      "cell_type": "code",
      "source": [],
      "metadata": {
        "id": "USGpKsOPSy-C"
      },
      "execution_count": null,
      "outputs": []
    },
    {
      "cell_type": "code",
      "source": [
        "## A*\n",
        "\n",
        "n = int(input('Enter number of node : '))\n",
        "node = dict()\n",
        "heuristic = {}\n",
        "for i in range(n):\n",
        "    a = input('Enter node : ')\n",
        "    heurs = int(input('Enter the heuristic value:'))\n",
        "    heuristic[a] = heurs\n",
        "    m = int(input('Enter number of child node : '))\n",
        "    l = []\n",
        "    for j in range(m):\n",
        "        t = ()\n",
        "        b = input('Enter child  node : ')\n",
        "        c = int(input('Enter path cost : '))\n",
        "        t= t + (b , c)\n",
        "        l.append(t)\n",
        "    node[a] = l\n",
        "def aStarAlgo(start_node, stop_node):\n",
        "\n",
        "        open_set = set(start_node)\n",
        "        closed_set = set()\n",
        "        g = {} #store distance from starting node\n",
        "        parents = {}# parents contains an adjacency map of all nodes\n",
        "\n",
        "        #ditance of starting node from itself is zero\n",
        "        g[start_node] = 0\n",
        "        #start_node is root node i.e it has no parent nodes\n",
        "        #so start_node is set to its own parent node\n",
        "        parents[start_node] = start_node\n",
        "\n",
        "\n",
        "        while len(open_set) > 0:\n",
        "            n = None\n",
        "\n",
        "            #node with lowest f() is found\n",
        "            for v in open_set:\n",
        "                if n == None or g[v] + heuristic[v] < g[n] + heuristic[n]:\n",
        "                    n = v\n",
        "\n",
        "\n",
        "            if n == stop_node or node[n] == None:\n",
        "                pass\n",
        "            else:\n",
        "                for (m, weight) in get_neighbors(n):\n",
        "                    #nodes 'm' not in first and last set are added to first\n",
        "                    #n is set its parent\n",
        "                    if m not in open_set and m not in closed_set:\n",
        "                        open_set.add(m)\n",
        "                        parents[m] = n\n",
        "                        g[m] = g[n] + weight\n",
        "\n",
        "\n",
        "                    #for each node m,compare its distance from start i.e g(m) to the\n",
        "                    #from start through n node\n",
        "                    else:\n",
        "                        if g[m] > g[n] + weight:\n",
        "                            #update g(m)\n",
        "                            g[m] = g[n] + weight\n",
        "                            #change parent of m to n\n",
        "                            parents[m] = n\n",
        "\n",
        "                            #if m in closed set,remove and add to open\n",
        "                            if m in closed_set:\n",
        "                                closed_set.remove(m)\n",
        "                                open_set.add(m)\n",
        "\n",
        "            if n == None:\n",
        "                print('Path does not exist!')\n",
        "                return None\n",
        "\n",
        "            # if the current node is the stop_node\n",
        "            # then we begin reconstructin the path from it to the start_node\n",
        "            if n == stop_node:\n",
        "                path = []\n",
        "\n",
        "                while parents[n] != n:\n",
        "                    path.append(n)\n",
        "                    n = parents[n]\n",
        "\n",
        "                path.append(start_node)\n",
        "\n",
        "                path.reverse()\n",
        "\n",
        "                print('Path found: {}'.format(path))\n",
        "                return path\n",
        "\n",
        "\n",
        "            # remove n from the open_list, and add it to closed_list\n",
        "            # because all of his neighbors were inspected\n",
        "            open_set.remove(n)\n",
        "            closed_set.add(n)\n",
        "\n",
        "        print('Path does not exist!')\n",
        "        return None\n",
        "\n",
        "#define fuction to return neighbor and its distance\n",
        "#from the passed node\n",
        "def get_neighbors(v):\n",
        "    if v in node:\n",
        "        return node[v]\n",
        "    else:\n",
        "        return None\n",
        "#for simplicity we ll consider heuristic distances given\n",
        "#and this function returns heuristic distance for all nodes\n",
        "#def heuristic(n):\n",
        "#        H_dist = {\n",
        "#            'A': 11,\n",
        "#            'B': 6,\n",
        "#            'C': 99,\n",
        "#            'D': 1,\n",
        "#            'E': 7,\n",
        "#            'G': 0,\n",
        "\n",
        "#        }\n",
        "\n",
        "#        return H_dist[n]\n",
        "\n",
        "#Describe your graph here\n",
        "#node = {\n",
        "#    'A': [('B', 2), ('E', 3)],\n",
        "#    'B': [('C', 1),('G', 9)],\n",
        "#    'C': None,\n",
        "#    'E': [('D', 6)],\n",
        "#    'D': [('G', 1)],\n",
        "\n",
        "#}\n",
        "\n",
        "s = input('Enter start node')\n",
        "goal = input('Enter goal node')\n",
        "aStarAlgo(s, goal)"
      ],
      "metadata": {
        "id": "NbeFfdEUSy7s",
        "colab": {
          "base_uri": "https://localhost:8080/"
        },
        "outputId": "a289b521-bb59-4f36-f69e-61001831bbdd"
      },
      "execution_count": null,
      "outputs": [
        {
          "output_type": "stream",
          "name": "stdout",
          "text": [
            "Enter number of node : 6\n",
            "Enter node : A\n",
            "Enter the heuristic value:11\n",
            "Enter number of child node : 2\n",
            "Enter child  node : B\n",
            "Enter path cost : 2\n",
            "Enter child  node : E\n",
            "Enter path cost : 3\n",
            "Enter node : B\n",
            "Enter the heuristic value:6\n",
            "Enter number of child node : 2\n",
            "Enter child  node : C\n",
            "Enter path cost : 1\n",
            "Enter child  node : G\n",
            "Enter path cost : 9\n",
            "Enter node : C\n",
            "Enter the heuristic value:99\n",
            "Enter number of child node : 0\n",
            "Enter node : D\n",
            "Enter the heuristic value:1\n",
            "Enter number of child node : 1\n",
            "Enter child  node : G\n",
            "Enter path cost : 1\n",
            "Enter node : E\n",
            "Enter the heuristic value:7\n",
            "Enter number of child node : 1\n",
            "Enter child  node : D\n",
            "Enter path cost : 6\n",
            "Enter node : G\n",
            "Enter the heuristic value:0\n",
            "Enter number of child node : 0\n",
            "Enter start nodeA\n",
            "Enter goal nodeG\n",
            "Path found: ['A', 'E', 'D', 'G']\n"
          ]
        },
        {
          "output_type": "execute_result",
          "data": {
            "text/plain": [
              "['A', 'E', 'D', 'G']"
            ]
          },
          "metadata": {},
          "execution_count": 6
        }
      ]
    },
    {
      "cell_type": "code",
      "source": [],
      "metadata": {
        "id": "EzqCWdDKS-W1"
      },
      "execution_count": null,
      "outputs": []
    },
    {
      "cell_type": "code",
      "source": [],
      "metadata": {
        "id": "0HZyV1MJS-TK"
      },
      "execution_count": null,
      "outputs": []
    },
    {
      "cell_type": "code",
      "source": [
        "### N queens\n",
        "N = int(input(\"enter the number of queens : \"))\n",
        "board = [[0 for col in range(N)] for row in range(N)]\n",
        "def is_attack(i, j):\n",
        "    #checking if there is a queen in row or column\n",
        "    for k in range(0,N):\n",
        "        if board[i][k]==1 or board[k][j]==1:\n",
        "            return True\n",
        "    #checking diagonals\n",
        "    for k in range(0,N):\n",
        "        for l in range(0,N):\n",
        "            if (k+l==i+j) or (k-l==i-j):\n",
        "                if board[k][l]==1:\n",
        "                    return True\n",
        "    return False\n",
        "\n",
        "def N_queen(n):\n",
        "    #if n is 0, solution found\n",
        "    if n==0:\n",
        "        return True\n",
        "    for i in range(0,N):\n",
        "        for j in range(0,N):\n",
        "            '''checking if we can place a queen here or not\n",
        "            queen will not be placed if the place is being attacked\n",
        "            or already occupied'''\n",
        "            if (not(is_attack(i,j))) and (board[i][j]!=1):\n",
        "                board[i][j] = 1\n",
        "                #recursion\n",
        "                #wether we can put the next queen with this arrangment or not\n",
        "                if N_queen(n-1)==True:\n",
        "                    return True\n",
        "                board[i][j] = 0\n",
        "\n",
        "    return False\n",
        "\n",
        "N_queen(N)\n",
        "for i in board:\n",
        "    print (i)"
      ],
      "metadata": {
        "id": "aYhUhn01S-QC",
        "colab": {
          "base_uri": "https://localhost:8080/"
        },
        "outputId": "742df9bd-6279-42aa-f8c9-3d317210c623"
      },
      "execution_count": null,
      "outputs": [
        {
          "output_type": "stream",
          "name": "stdout",
          "text": [
            "enter the number of queens : 4\n",
            "[0, 1, 0, 0]\n",
            "[0, 0, 0, 1]\n",
            "[1, 0, 0, 0]\n",
            "[0, 0, 1, 0]\n"
          ]
        }
      ]
    },
    {
      "cell_type": "code",
      "source": [],
      "metadata": {
        "id": "O9swJRk-S-Nw"
      },
      "execution_count": null,
      "outputs": []
    },
    {
      "cell_type": "code",
      "execution_count": null,
      "metadata": {
        "id": "c_tJJsaiStH1",
        "colab": {
          "base_uri": "https://localhost:8080/"
        },
        "outputId": "5f4163a4-1ee0-49a5-dcdf-43a11a919f0d"
      },
      "outputs": [
        {
          "output_type": "stream",
          "name": "stdout",
          "text": [
            "{'wa': 'r', 'nt': 'b', 'q': 'g', 'nsw': 'b'}\n"
          ]
        }
      ],
      "source": [
        "## map coloring\n",
        "\n",
        "colors = ['r', 'b', 'g']\n",
        "\n",
        "states = ['wa', 'nt' , 'q', 'nsw']\n",
        "\n",
        "neighbors = {}\n",
        "neighbors['wa'] = ['nt' , 'q' , 'nsw']\n",
        "neighbors['nt'] = ['wa' , 'q']\n",
        "neighbors['q'] = ['nt', 'wa', 'nsw']\n",
        "neighbors['nsw'] = ['q', 'wa']\n",
        "\n",
        "\n",
        "colors_of_states = {}\n",
        "\n",
        "def promising(state, color):\n",
        "    for neighbor in neighbors.get(state):\n",
        "        if colors_of_states.get(neighbor) == color:\n",
        "            return False\n",
        "\n",
        "    return True\n",
        "\n",
        "def get_color_for_state(state):\n",
        "    for color in colors:\n",
        "        if promising(state, color):\n",
        "            return color\n",
        "\n",
        "\n",
        "for state in states:\n",
        "    colors_of_states[state] = get_color_for_state(state)\n",
        "\n",
        "print(colors_of_states)"
      ]
    },
    {
      "cell_type": "code",
      "source": [
        "pip install pytholog"
      ],
      "metadata": {
        "colab": {
          "base_uri": "https://localhost:8080/"
        },
        "id": "CG43lrHoCQIE",
        "outputId": "398a6075-af11-4227-9d1d-cd8be8af523c"
      },
      "execution_count": null,
      "outputs": [
        {
          "output_type": "stream",
          "name": "stdout",
          "text": [
            "Looking in indexes: https://pypi.org/simple, https://us-python.pkg.dev/colab-wheels/public/simple/\n",
            "Collecting pytholog\n",
            "  Downloading pytholog-2.4.1-py3-none-any.whl (16 kB)\n",
            "Requirement already satisfied: more-itertools in /usr/local/lib/python3.8/dist-packages (from pytholog) (9.0.0)\n",
            "Installing collected packages: pytholog\n",
            "Successfully installed pytholog-2.4.1\n"
          ]
        }
      ]
    },
    {
      "cell_type": "code",
      "source": [
        "## kb\n",
        "\n",
        "import pytholog as pl\n",
        "new_kb = pl.KnowledgeBase()\n",
        "new_kb([\"likes(noor, sausage)\",\n",
        "        \"likes(melissa, pasta)\",\n",
        "        \"likes(dmitry, cookie)\",\n",
        "        \"food_type(limonade, juice)\",\n",
        "        \"food_type(cookie, dessert)\",\n",
        "        \"flavor(sweet, dessert)\",\n",
        "        \"food_flavor(X, Y) :- food_type(X, Z), flavor(Y, Z)\",\n",
        "        \"dish_to_like(X, Y) :- likes(X, L), food_type(L, T), flavor(F, T), food_flavor(Y, F), neq(L, Y)\"])\n",
        "\n",
        "new_kb.query(pl.Expr(\"likes(noor, sausage)\"))"
      ],
      "metadata": {
        "id": "cFPh7cr49sRA",
        "colab": {
          "base_uri": "https://localhost:8080/"
        },
        "outputId": "5ebf036d-6382-4b7c-9acf-ecdd4038ab17"
      },
      "execution_count": null,
      "outputs": [
        {
          "output_type": "execute_result",
          "data": {
            "text/plain": [
              "['Yes']"
            ]
          },
          "metadata": {},
          "execution_count": 10
        }
      ]
    },
    {
      "cell_type": "markdown",
      "source": [
        "TSP = [link text](https://)"
      ],
      "metadata": {
        "id": "MSBOozQb9_Fd"
      }
    },
    {
      "cell_type": "code",
      "source": [],
      "metadata": {
        "id": "1Eg8jUnl9sGc"
      },
      "execution_count": null,
      "outputs": []
    }
  ]
}