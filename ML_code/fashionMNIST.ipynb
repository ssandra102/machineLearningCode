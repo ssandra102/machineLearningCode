{
  "nbformat": 4,
  "nbformat_minor": 0,
  "metadata": {
    "colab": {
      "provenance": []
    },
    "kernelspec": {
      "name": "python3",
      "display_name": "Python 3"
    },
    "language_info": {
      "name": "python"
    }
  },
  "cells": [
    {
      "cell_type": "code",
      "execution_count": null,
      "metadata": {
        "id": "nMIFnwAwVvtl"
      },
      "outputs": [],
      "source": [
        "from keras.datasets import fashion_mnist\n",
        "\n",
        "(X_train, y_train), (X_test, y_test) = fashion_mnist.load_data()"
      ]
    },
    {
      "cell_type": "code",
      "source": [
        "print(\"X train shape\", X_train.shape)\n",
        "print(\"X test shape\", X_test.shape)\n",
        "print(\"Y train shape\", y_train.shape)\n",
        "print(\"Y test shape\", y_test.shape)"
      ],
      "metadata": {
        "id": "EEvTfl50VwsR"
      },
      "execution_count": null,
      "outputs": []
    },
    {
      "cell_type": "code",
      "source": [
        "import numpy as np\n",
        "\n",
        "X_train = X_train.astype('float32')\n",
        "X_test = X_test.astype('float32')\n",
        "\n",
        "# Normalization of pixel values (to [0-1] range)\n",
        "X_train /= 255\n",
        "X_test /= 255"
      ],
      "metadata": {
        "id": "vwh9Vf1YVwug"
      },
      "execution_count": null,
      "outputs": []
    },
    {
      "cell_type": "code",
      "source": [
        "from keras.models import Sequential\n",
        "from keras.layers import Dense, Activation, Flatten\n",
        "# from tensorflow.keras.optimizers import SGD, Adam\n",
        "import tensorflow as tf\n",
        "from tensorflow.keras.optimizers.legacy import SGD\n",
        "\n",
        "model1 = Sequential()\n",
        "model1.add(Flatten(input_shape=(28,28)))\n",
        "model1.add(Dense(128, activation='sigmoid', input_dim=3072))\n",
        "model1.add(Dense(32, activation='sigmoid'))\n",
        "model1.add(Dense(32, activation='sigmoid'))\n",
        "model1.add(Dense(32, activation='sigmoid'))\n",
        "model1.add(Dense(10, activation='softmax'))\n",
        "\n",
        "optimizer = SGD(learning_rate=0.0001, decay=1e-6, momentum=0.9, nesterov=True)\n",
        "model1.compile(optimizer=optimizer, loss='categorical_crossentropy', metrics=['accuracy'])\n",
        "history = model1.fit(X_train,y_train, epochs=10, batch_size=32, verbose=1, validation_split=0.1)\n",
        "\n",
        "# Evaluating the MLP\n",
        "score = model1.evaluate(X_test, y_test, batch_size=16, verbose=0)\n",
        "print(model1.metrics_names)\n",
        "print(score)"
      ],
      "metadata": {
        "id": "7ynQ4o49Vww4"
      },
      "execution_count": null,
      "outputs": []
    },
    {
      "cell_type": "code",
      "source": [],
      "metadata": {
        "id": "vhNQsxO9VwzQ"
      },
      "execution_count": null,
      "outputs": []
    },
    {
      "cell_type": "code",
      "source": [],
      "metadata": {
        "id": "SweXN7doVw1w"
      },
      "execution_count": null,
      "outputs": []
    },
    {
      "cell_type": "code",
      "source": [],
      "metadata": {
        "id": "CTYxPvI3Vw4I"
      },
      "execution_count": null,
      "outputs": []
    },
    {
      "cell_type": "code",
      "source": [],
      "metadata": {
        "id": "M_6diG45Vw6g"
      },
      "execution_count": null,
      "outputs": []
    }
  ]
}